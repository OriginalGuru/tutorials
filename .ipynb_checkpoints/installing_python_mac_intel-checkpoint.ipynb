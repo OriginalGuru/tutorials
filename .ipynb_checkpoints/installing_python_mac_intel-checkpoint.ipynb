{
 "cells": [
  {
   "cell_type": "markdown",
   "id": "a8f865ec-4ce9-4ee2-8440-e928bfe270d7",
   "metadata": {},
   "source": [
    "# Step-by-Step Guide to Set Up Python, NumPy, SciPy, and Jupyter on a Mac with an Intel Chip Using Miniforge\n",
    "\n",
    "---\n",
    "## Introduction\n",
    "\n",
    "**Python** is a powerful programming language that is widely used in various fields, from web development to scientific computing. **NumPy** and **SciPy** are essential libraries for numerical and scientific computing, providing tools to perform complex mathematical operations efficiently. **Jupyter Notebook** is an interactive web application that allows you to create and share documents containing live code, equations, visualizations, and narrative text.\n",
    "\n",
    "* [Python documentation](https://docs.python.org/3.9/)\n",
    "* [NumPy documentation](https://numpy.org/doc/stable/user/index.html)\n",
    "* [SciPy documentation](https://docs.scipy.org/doc/scipy/tutorial/index.html)\n",
    "* [Jupyter documentation](https://docs.jupyter.org/en/latest/use/using.html#)"
   ]
  },
  {
   "cell_type": "markdown",
   "id": "5c8f42a9-f6a4-4db9-96fd-2e8b1b040f9b",
   "metadata": {},
   "source": [
    "## Step-by-Step Instructions\n",
    "\n",
    "---\n",
    "**Determine if you have an Intel Chip**\n",
    "\n",
    "1. Click on the **Apple** icon in the top-left corner of your screen.\n",
    "2. Select **About This Mac**\n",
    "3. Look for the **Chip** or **Processor** entry. If it says **Intel**, you have an Intel chip.\n",
    "\n",
    "If your Mac does not have an Intel chip, switch to the **Mac M1/M2** instructions."
   ]
  },
  {
   "cell_type": "markdown",
   "id": "fd36ce76-8e83-480f-bbc2-cbdfc754d408",
   "metadata": {},
   "source": [
    "---\n",
    "1. **Open the Terminal**\n",
    "    1. Click on the **Finder** icon (the smiley face) in the dock.\n",
    "    2. Click on **Applications** in the left sidebar.\n",
    "    3. Scroll down and open the **Utilities** folder.\n",
    "    4. Find and double-click on **Terminal** to open it.\n",
    "\n",
    "**If you do not see the terminal, check in the Applications/Utilities folder.**"
   ]
  },
  {
   "cell_type": "markdown",
   "id": "c8dfafc7-bbe8-4374-972c-8dfd956ab138",
   "metadata": {},
   "source": [
    "---\n",
    "2. **Install Miniforge**\n",
    "\n",
    "    **Miniforge** is a community-driven, cross-platform package manager built on top of conda.\n",
    "\n",
    "    1. Download the Miniforge installer for macOS with Intel architecture:\n",
    "    \n",
    "       `curl -L -O https://github.com/conda-forge/miniforge/releases/latest/download/Miniforge3-MacOSX-x86_64.sh`\n",
    "   \n",
    "    3. Run the installer:\n",
    "  \n",
    "       `./Miniforge3-MacOSX-x86_64.sh`\n",
    "  \n",
    "    4. Follow the on-screen instructions. When prompted, you can access the default settings by pressing Enter/Return.\n",
    "    5. After installation, close and open the Terminal to ensure the changes take effect.\n",
    "    6. Verify the installation by checking the conda version:\n",
    "  \n",
    "        `conda --version`\n",
    "    \n"
   ]
  },
  {
   "cell_type": "markdown",
   "id": "c04741d8-db1a-44ed-98be-9b50d4efe529",
   "metadata": {},
   "source": [
    "---\n",
    "3. **Create a Virtual Environment**\n",
    "\n",
    "   A **virtual environment** is a self-contained directory that contains a Python installation built around a specific version of python with additional packages. **Virtual environments** allow you to have multiple builds of Python for different purposes.\n",
    "\n",
    "    1. Verify Miniforge is installed correctly by checking the version:\n",
    "     \n",
    "        `conda --version`\n",
    "   \n",
    "    2. Create a new virtual environment named 'phys3510' with Python 3.9:\n",
    "  \n",
    "        `conda create --name phys3510 python=3.9`\n",
    "\n",
    "    3. Activate the virtual environment:\n",
    "  \n",
    "        `conda activate phys3510`\n",
    "\n",
    "    4. Verify the virtual environment is active. You should see **`(phys3510)`** at the beginning of your terminal prompt.  \n"
   ]
  },
  {
   "cell_type": "markdown",
   "id": "255e977d-da26-410f-837e-71c702f708f9",
   "metadata": {},
   "source": [
    "---\n",
    "4. **Install NumPy, SciPy, and Jupyter**\n",
    "    1. Install the necessary packages from the conda-forge channel:\n",
    "\n",
    "        `conda install -c conda-forge numpy scipy jupyter`\n",
    "\n",
    "    2. Verify the installations:\n",
    "  \n",
    "        `python --version`\n",
    "  \n",
    "        `python -c \"import numpy; print(numpy.__version__)\"`\n",
    "  \n",
    "        `python -c \"import scipy; print(scipy.__version__)\"`\n",
    "  \n",
    "        `jupyter --version`\n"
   ]
  },
  {
   "cell_type": "markdown",
   "id": "b17a5ff9-e8f6-46b7-9ff1-12fe7dd21353",
   "metadata": {},
   "source": [
    "---\n",
    "5. **Create or Navigate to a Directory for Your Notebooks**\n",
    "\n",
    "    **Aside: Basic Terminal Commands**\n",
    "\n",
    "* **`pwd`** : Shows the current directory you are in.\n",
    "* **`ls`** : Lists the files and folders in the current directory.\n",
    "    * **`ls -l`** : tells `ls` to show the files and folders in a list format\n",
    "* **`cd <directory_name>`** : Changes the current directory to the specified directory.\n",
    "    * **`cd ..`** : Moves up one directory level.\n",
    "    * **`cd ~`** : Moves you to your home directory.\n",
    "* **`mkdir <directory_name>`** : Creates a new directory with the specified name.\n",
    "\n",
    "    **Tip:** When working in the terminal, its normal to use **`pwd`**, **`ls -l`**, and **`cd ..`** to navigate. When you get lost, you can use **`cd ~`** to reach the home directory and start over.\n",
    "\n",
    "    **Back to the Task: Steps to Create a New Directory for your Jupyter Notebooks**\n",
    "\n",
    "    1. Check where you are with ``pwd`.\n",
    "    2. List the files and folders in your current directory with `ls` or `ls -l`.\n",
    "    3. Navigate to where you want to store your Notebooks with `cd <directory_name>`.\n",
    "    4. Create a new directory (folder):\n",
    "\n",
    "        `mkdir JupyterNotebooks`\n",
    "\n",
    "    5. Navigate to your JupyterNotebooks directory:\n",
    "\n",
    "        `cd JupyterNotebooks`      "
   ]
  },
  {
   "cell_type": "markdown",
   "id": "bb7d6574-30cf-458e-a157-28d70c37b478",
   "metadata": {},
   "source": [
    "---\n",
    "6. **Launch Jupyter Notebook**\n",
    "    1. Start Jupyter Notebook:\n",
    "\n",
    "        `jupyter notebook`\n",
    "\n",
    "    3. A new tab should open in your default web browser with the Jupyter Notebook interface."
   ]
  },
  {
   "cell_type": "markdown",
   "id": "3d243df2-1096-44cc-a48f-85977aba8743",
   "metadata": {},
   "source": [
    "---\n",
    "7. **Work in Jupyter Notebook**\n",
    "    1. Create a new Python notebook by clicking **File > New > Notebook**.\n",
    "    2. You will be prompted to choose a kernal. A kernel is the computational engine that runs your code. **Python 3** should be the default. "
   ]
  },
  {
   "cell_type": "markdown",
   "id": "dca95fae-f13e-41cc-b656-3a57b04c42b4",
   "metadata": {},
   "source": [
    "---\n",
    "8. **Close Jupyter Notebook and Deactivate the Environment**\n",
    "    1. To stop the Jupyter Notebook, go back to the Terminal where Jupyter was started and press **`Cmd+C`**.\n",
    "    2. Confirm the shotdown by typing `y` when prompted and press Enter/Return.\n",
    "    3. Deactivate the virtual environment:\n",
    "\n",
    "        `conda deactivate`"
   ]
  },
  {
   "cell_type": "markdown",
   "id": "e7eae18f-64a3-45f1-93f9-617ed0747599",
   "metadata": {},
   "source": [
    "---\n",
    "## Typical Usage Workflow\n",
    "1. Open your Terminal and activate your virtual environment with `conda activate phys3510`.\n",
    "2. Navigate to your JupyterNotebooks directory/folder with `cd` and `ls`. For example, `cd JupyterNotebooks`.\n",
    "3. Launch Jupyter Notebook to start working on your project with `jupyter notebook`.\n",
    "4. Create or open a Jupyter notebook and write your code.\n",
    "5. Save your work regularly by clicking the save icon or pressing **`Cmd+S`**.\n",
    "6. Whn you are done, close the **Jupyter Notebook** by going to the Terminal and pressing **`Cmd+C`** and confirming with `y`.\n",
    "7. Deactivate the virtual environment with `conda deactivate`."
   ]
  },
  {
   "cell_type": "markdown",
   "id": "2806356b-f5e6-456c-abd7-8777104030e4",
   "metadata": {},
   "source": [
    "___\n",
    "## Additional Information\n",
    "Some useful links:\n",
    "\n",
    "* [Navigating the Terminal](https://www.codecademy.com/learn/learn-the-command-line/modules/learn-the-command-line-navigation/cheatsheet).\n",
    "\n",
    "* [More about Jupyter Notebooks](https://www.dataquest.io/blog/jupyter-notebook-tutorial/).\n",
    "\n",
    "* [MarkDown basics](https://www.markdowntutorial.com/). This is how we keep notes and organize our Jupyter Notebooks.\n",
    "\n",
    "You can remove a virtual environment with the following command: `conda remove --name phys3510 --all`"
   ]
  },
  {
   "cell_type": "code",
   "execution_count": null,
   "id": "0b63b993-e5b3-4ee1-abad-faacfd461cd3",
   "metadata": {},
   "outputs": [],
   "source": []
  }
 ],
 "metadata": {
  "kernelspec": {
   "display_name": "Python 3 (ipykernel)",
   "language": "python",
   "name": "python3"
  },
  "language_info": {
   "codemirror_mode": {
    "name": "ipython",
    "version": 3
   },
   "file_extension": ".py",
   "mimetype": "text/x-python",
   "name": "python",
   "nbconvert_exporter": "python",
   "pygments_lexer": "ipython3",
   "version": "3.9.19"
  }
 },
 "nbformat": 4,
 "nbformat_minor": 5
}
