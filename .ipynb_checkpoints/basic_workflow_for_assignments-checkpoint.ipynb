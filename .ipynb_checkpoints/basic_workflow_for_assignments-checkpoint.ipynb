{
 "cells": [
  {
   "cell_type": "markdown",
   "id": "a8f865ec-4ce9-4ee2-8440-e928bfe270d7",
   "metadata": {},
   "source": [
    "# Basic Assignment Workflow For This Class\n",
    "\n",
    "To get the homework assignments and notes for this class, we will use GitHub Classroom. With your GitHub account, you already have access to this. Here is the basic workflow:\n",
    "\n",
    "1. Open a Terminal.\n",
    "2. Activate the python virtual environment: `conda activate phys3510`\n",
    "3. Navigate to the directory where you are for this class. For example: `cd ~/repos/phys3510`\n",
    "4. Get the assignment link from Canvas.\n",
    "    * Follow the link. It will look something like: `https://classroom.github.com/[other stuff]`.\n",
    "    * Follow the prompts.\n",
    "    * This will give you a personal link for the assignment which will look something like: `https://github.com/Phys3510-Fall2024/[assignment name]-[your name]` \n",
    "    * Copy this link.\n",
    "5. Clone the assignment: `git clone [assignment link]`\n",
    "    * You should now have a new directory for the assignment along with a `README.md` file along with any other notebooks, data files, or code snippets you will need.\n",
    "6. Navigate to that directory. For example, `cd [assignment name]`\n",
    "8. Run `jupyter notebook`\n",
    "9. Open and complete the assignment. Once done, close Jupyter Notebook. (In the Terminal **Cmd+C** and **y**.)\n",
    "10. Stage your files: `git add .`\n",
    "11. Commit your changes: `git commit -m \"your message/note for your future self\"`\n",
    "12. Push/Submit the assignment: `git push`"
   ]
  },
  {
   "cell_type": "code",
   "execution_count": null,
   "id": "a0a6bd38-9bdf-4f92-83be-e4e1205c316e",
   "metadata": {},
   "outputs": [],
   "source": []
  }
 ],
 "metadata": {
  "kernelspec": {
   "display_name": "Python 3 (ipykernel)",
   "language": "python",
   "name": "python3"
  },
  "language_info": {
   "codemirror_mode": {
    "name": "ipython",
    "version": 3
   },
   "file_extension": ".py",
   "mimetype": "text/x-python",
   "name": "python",
   "nbconvert_exporter": "python",
   "pygments_lexer": "ipython3",
   "version": "3.9.19"
  }
 },
 "nbformat": 4,
 "nbformat_minor": 5
}
