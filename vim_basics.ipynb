{
 "cells": [
  {
   "cell_type": "markdown",
   "id": "4918507e-90a5-48cd-9a3c-890d671ced44",
   "metadata": {},
   "source": [
    "# `vim` basics\n",
    "\n",
    "Vim is a powerful text editor that operates within a terminal. It might seem intimidating at first, but with a few basic commands, you can start using it effectively. The best way to learn vim is to tinker. Here are some resources:\n",
    "\n",
    "* Web-based interactive [vim tutorial](https://www.openvim.com/)\n",
    "* Learn vim by playing a game, [vim adventures](https://vim-adventures.com/) (only the first level or so is free, but that's enough)"
   ]
  },
  {
   "cell_type": "code",
   "execution_count": null,
   "id": "4c9d2135-44b1-4ff5-8ac5-c0b11264b3ff",
   "metadata": {},
   "outputs": [],
   "source": []
  }
 ],
 "metadata": {
  "kernelspec": {
   "display_name": "Python 3 (ipykernel)",
   "language": "python",
   "name": "python3"
  },
  "language_info": {
   "codemirror_mode": {
    "name": "ipython",
    "version": 3
   },
   "file_extension": ".py",
   "mimetype": "text/x-python",
   "name": "python",
   "nbconvert_exporter": "python",
   "pygments_lexer": "ipython3",
   "version": "3.9.19"
  }
 },
 "nbformat": 4,
 "nbformat_minor": 5
}
